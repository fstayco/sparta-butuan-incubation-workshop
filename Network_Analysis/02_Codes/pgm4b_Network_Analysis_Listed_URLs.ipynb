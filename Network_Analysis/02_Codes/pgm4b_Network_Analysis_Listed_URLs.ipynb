{
 "cells": [
  {
   "cell_type": "code",
   "execution_count": 1,
   "metadata": {},
   "outputs": [],
   "source": [
    "from os import listdir\n",
    "from os.path import isfile, join\n",
    "import pandas as pd\n",
    "import numpy as np\n",
    "import glob\n",
    "import networkx as nx\n",
    "from networkx.algorithms.community import greedy_modularity_communities\n",
    "import matplotlib.pyplot as plt\n",
    "\n",
    "from bokeh.io import output_notebook, show, save\n",
    "from bokeh.models import Range1d, Circle, ColumnDataSource, MultiLine, EdgesAndLinkedNodes, NodesAndLinkedEdges, LabelSet\n",
    "from bokeh.plotting import figure\n",
    "from bokeh.plotting import from_networkx\n",
    "from bokeh.palettes import Blues8, Reds8, Purples8, Oranges8, Viridis8, Spectral8, Turbo256, Viridis256\n",
    "from bokeh.transform import linear_cmap\n",
    "from networkx.algorithms import community\n",
    "\n",
    "from functools import reduce"
   ]
  },
  {
   "cell_type": "code",
   "execution_count": 2,
   "metadata": {},
   "outputs": [],
   "source": [
    "# Specify source folder\n",
    "src_data_folder = r\"C:\\Users\\SPARTA-USER\\Documents\\GitHub\\tobacco_control\\01_Data\\Crowdtangle\\URL Sharing\"\n",
    "bm_extracts = glob.glob(join(src_data_folder,\"*.csv\"))\n",
    "\n",
    "# Import all CSVs into a dataframe\n",
    "df_from_each_file = (pd.read_csv(f) for f in bm_extracts)\n",
    "extract = pd.concat(df_from_each_file, ignore_index=True, sort=True)"
   ]
  },
  {
   "cell_type": "code",
   "execution_count": 3,
   "metadata": {},
   "outputs": [],
   "source": [
    "#--- Drop duplicates\n",
    "extract.drop_duplicates(subset=\"URL\",keep=\"first\",inplace=True)\n",
    "\n",
    "#--- Drop rows with missing shared link\n",
    "extract = extract[~extract[\"Link\"].isnull()]\n",
    "\n",
    "#--- Create new fields for Name and Shared Link\n",
    "extract[\"Name\"] = extract[[\"Page Name\",\"Group Name\",\"Subreddit\"]].bfill(axis=1).iloc[:,0]\n",
    "extract[\"Shared Link\"] = extract[[\"Final Link\",\"Link\"]].bfill(axis=1).iloc[:,0]\n",
    "extract[\"Weight\"] = extract['Total Interactions'].apply(lambda i: str(i).replace(\",\",\"\"))\n",
    "extract[\"Weight\"] = extract['Weight'].astype('float')\n"
   ]
  },
  {
   "cell_type": "code",
   "execution_count": 20,
   "metadata": {},
   "outputs": [],
   "source": [
    "from pyvis.network import Network\n",
    "import pandas as pd\n",
    "\n",
    "url_net = Network(height='750px', width='100%', bgcolor='#222222', font_color='white')\n",
    "\n",
    "# set the physics layout of the network\n",
    "url_net.force_atlas_2based()\n",
    "\n",
    "sources = extract['Name']\n",
    "targets = extract['Shared Link']\n",
    "weights = extract[\"Weight\"]\n",
    "\n",
    "edge_data = zip(sources, targets, weights)\n",
    "\n",
    "for e in edge_data:\n",
    "    src = e[0]\n",
    "    dst = e[1]\n",
    "    w = e[2]\n",
    "\n",
    "    url_net.add_node(src, src, title=src, color='blue')\n",
    "    url_net.add_node(dst, dst, title=dst, size=w, color='red')\n",
    "    url_net.add_edge(src, dst, value=w, color='white')\n",
    "\n",
    "neighbor_map = url_net.get_adj_list()\n",
    "\n",
    "# add neighbor data to node hover data\n",
    "for node in url_net.nodes:\n",
    "    node['title'] += ' Neighbors:<br>' + '<br>'.join(neighbor_map[node['id']])\n",
    "    node['value'] = len(neighbor_map[node['id']])\n",
    "\n",
    "url_net.show_buttons(filter_=['physics'])\n",
    "url_net.show('C:/Users/SPARTA-USER/Documents/GitHub/tobacco_control/03_Outputs/CrowdTangle/URL Sharing/url_sharing.html')"
   ]
  },
  {
   "cell_type": "code",
   "execution_count": 9,
   "metadata": {},
   "outputs": [],
   "source": [
    "def cd (df, src, trgt, wt):\n",
    "    G = nx.from_pandas_edgelist(df, source = src, target = trgt, edge_attr= wt)\n",
    "        \n",
    "    # Calculate network statistics\n",
    "    degree_dict = dict(G.degree(G.nodes()))\n",
    "    degree = pd.DataFrame.from_dict(degree_dict, orient='index', columns=[\"Degree\"])\n",
    "    betweenness_dict = nx.betweenness_centrality(G, normalized = True, endpoints = False) # Run betweenness centrality\n",
    "    betweenness = pd.DataFrame.from_dict(betweenness_dict, orient='index', columns=[\"Betweenness Centrality\"])\n",
    "    eigenvector_dict = nx.eigenvector_centrality_numpy(G) # Run eigenvector centrality\n",
    "    eigenvector = pd.DataFrame.from_dict(eigenvector_dict, orient='index', columns=[\"Eigenvector Centrality\"])\n",
    "    closeness_dict = nx.closeness_centrality(G) # Run closeness centrality\n",
    "    closeness = pd.DataFrame.from_dict(closeness_dict, orient='index', columns=[\"Closeness Centrality\"])\n",
    "    pagerank_dict = nx.pagerank(G, alpha=0.8) # Run page rank             \n",
    "    pagerank = pd.DataFrame.from_dict(pagerank_dict, orient='index', columns=[\"Page Rank\"])           \n",
    "    \n",
    "    # compile the list of dataframes you want to merge\n",
    "    stats_dfs = [degree, betweenness, eigenvector, closeness, pagerank]\n",
    "    network_stats = reduce(lambda  left,right: pd.merge(left,right,left_index=True, right_index=True,how='outer'), stats_dfs)\n",
    "    return G, network_stats\n",
    "\n",
    "G, network_stats = cd(extract, \"Nam\", \"Shared Link\")"
   ]
  },
  {
   "cell_type": "code",
   "execution_count": 13,
   "metadata": {},
   "outputs": [],
   "source": [
    "network_stats.to_excel(\"C:/Users/SPARTA-USER/Documents/GitHub/tobacco_control/03_Outputs/CrowdTangle/URL Sharing/Network_Stats_URL_Sharing.xlsx\")"
   ]
  },
  {
   "cell_type": "code",
   "execution_count": 4,
   "metadata": {},
   "outputs": [],
   "source": [
    "extract2 = extract[[\"Name\",\"Shared Link\",\"Weight\"]]\n",
    "extract2.to_excel(\"C:/Users/SPARTA-USER/Documents/GitHub/tobacco_control/03_Outputs/CrowdTangle/URL Sharing/URL_Network_Data.xlsx\")"
   ]
  }
 ],
 "metadata": {
  "kernelspec": {
   "display_name": "Python 3 (ipykernel)",
   "language": "python",
   "name": "python3"
  },
  "language_info": {
   "codemirror_mode": {
    "name": "ipython",
    "version": 3
   },
   "file_extension": ".py",
   "mimetype": "text/x-python",
   "name": "python",
   "nbconvert_exporter": "python",
   "pygments_lexer": "ipython3",
   "version": "3.8.12"
  }
 },
 "nbformat": 4,
 "nbformat_minor": 4
}
